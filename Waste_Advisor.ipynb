{
  "nbformat": 4,
  "nbformat_minor": 0,
  "metadata": {
    "colab": {
      "name": "Waste Advisor.ipynb",
      "provenance": [],
      "include_colab_link": true
    },
    "kernelspec": {
      "name": "python3",
      "display_name": "Python 3"
    },
    "accelerator": "GPU"
  },
  "cells": [
    {
      "cell_type": "markdown",
      "metadata": {
        "id": "view-in-github",
        "colab_type": "text"
      },
      "source": [
        "<a href=\"https://colab.research.google.com/github/Mohammad-Alizadeh/WasteAdvisor2021/blob/main/Waste_Advisor.ipynb\" target=\"_parent\"><img src=\"https://colab.research.google.com/assets/colab-badge.svg\" alt=\"Open In Colab\"/></a>"
      ]
    },
    {
      "cell_type": "code",
      "metadata": {
        "colab": {
          "base_uri": "https://localhost:8080/"
        },
        "id": "mKpn2hJVX2hh",
        "outputId": "877a66a3-535f-496d-d075-a322271ca3e9"
      },
      "source": [
        "! git clone https://github.com/Karamvir-Singh/wasteAPI"
      ],
      "execution_count": 6,
      "outputs": [
        {
          "output_type": "stream",
          "text": [
            "fatal: destination path 'wasteAPI' already exists and is not an empty directory.\n"
          ],
          "name": "stdout"
        }
      ]
    },
    {
      "cell_type": "markdown",
      "metadata": {
        "id": "ykMQewQ2ZknV"
      },
      "source": [
        "##Import libraries\r\n"
      ]
    },
    {
      "cell_type": "code",
      "metadata": {
        "colab": {
          "base_uri": "https://localhost:8080/"
        },
        "id": "uFlKSqKXZsiv",
        "outputId": "6f194fbc-617d-4e9c-ecae-4d4792775cf0"
      },
      "source": [
        "! pip install starlette\r\n",
        "! pip install uvicorn\r\n",
        "! pip install aiohttp"
      ],
      "execution_count": 7,
      "outputs": [
        {
          "output_type": "stream",
          "text": [
            "Requirement already satisfied: starlette in /usr/local/lib/python3.6/dist-packages (0.14.2)\n",
            "Requirement already satisfied: uvicorn in /usr/local/lib/python3.6/dist-packages (0.13.4)\n",
            "Requirement already satisfied: h11>=0.8 in /usr/local/lib/python3.6/dist-packages (from uvicorn) (0.12.0)\n",
            "Requirement already satisfied: typing-extensions; python_version < \"3.8\" in /usr/local/lib/python3.6/dist-packages (from uvicorn) (3.7.4.3)\n",
            "Requirement already satisfied: click==7.* in /usr/local/lib/python3.6/dist-packages (from uvicorn) (7.1.2)\n",
            "Requirement already satisfied: aiohttp in /usr/local/lib/python3.6/dist-packages (3.7.3)\n",
            "Requirement already satisfied: idna-ssl>=1.0; python_version < \"3.7\" in /usr/local/lib/python3.6/dist-packages (from aiohttp) (1.1.0)\n",
            "Requirement already satisfied: yarl<2.0,>=1.0 in /usr/local/lib/python3.6/dist-packages (from aiohttp) (1.6.3)\n",
            "Requirement already satisfied: attrs>=17.3.0 in /usr/local/lib/python3.6/dist-packages (from aiohttp) (20.3.0)\n",
            "Requirement already satisfied: async-timeout<4.0,>=3.0 in /usr/local/lib/python3.6/dist-packages (from aiohttp) (3.0.1)\n",
            "Requirement already satisfied: typing-extensions>=3.6.5 in /usr/local/lib/python3.6/dist-packages (from aiohttp) (3.7.4.3)\n",
            "Requirement already satisfied: chardet<4.0,>=2.0 in /usr/local/lib/python3.6/dist-packages (from aiohttp) (3.0.4)\n",
            "Requirement already satisfied: multidict<7.0,>=4.5 in /usr/local/lib/python3.6/dist-packages (from aiohttp) (5.1.0)\n",
            "Requirement already satisfied: idna>=2.0 in /usr/local/lib/python3.6/dist-packages (from idna-ssl>=1.0; python_version < \"3.7\"->aiohttp) (2.10)\n"
          ],
          "name": "stdout"
        }
      ]
    },
    {
      "cell_type": "code",
      "metadata": {
        "id": "Gh-kkw0MY3Ye"
      },
      "source": [
        "from starlette.applications import Starlette\r\n",
        "from starlette.responses import JSONResponse, HTMLResponse, RedirectResponse\r\n",
        "import uvicorn\r\n",
        "import aiohttp\r\n",
        "import asyncio\r\n",
        "import numpy as np\r\n",
        "from skimage import transform\r\n",
        "from tensorflow.keras.models import load_model\r\n",
        "\r\n",
        "import io\r\n",
        "import os\r\n",
        "import sys\r\n",
        "import base64 \r\n",
        "from PIL import Image, ImageOps"
      ],
      "execution_count": 8,
      "outputs": []
    },
    {
      "cell_type": "code",
      "metadata": {
        "colab": {
          "base_uri": "https://localhost:8080/"
        },
        "id": "1AYKSCHgb634",
        "outputId": "6232620f-3f77-45db-96f5-cc4c72e47c72"
      },
      "source": [
        "from starlette.applications import Starlette\r\n",
        "from starlette.responses import JSONResponse, HTMLResponse, RedirectResponse\r\n",
        "import uvicorn\r\n",
        "import aiohttp\r\n",
        "import asyncio\r\n",
        "import numpy as np\r\n",
        "from skimage import transform\r\n",
        "from tensorflow.keras.models import load_model\r\n",
        "\r\n",
        "import io\r\n",
        "import os\r\n",
        "import sys\r\n",
        "import base64 \r\n",
        "from PIL import Image, ImageOps\r\n",
        "\r\n",
        "async def get_bytes(url):\r\n",
        "    async with aiohttp.ClientSession() as session:\r\n",
        "        async with session.get(url) as response:\r\n",
        "            return await response.read()\r\n",
        "\r\n",
        "app = Starlette()\r\n",
        "\r\n",
        "#importing model\r\n",
        "MODEL_PATH = 'model.h5'\r\n",
        "model = load_model('/content/wasteAPI/keras_model.h5')\r\n",
        "\r\n",
        "@app.route(\"/upload\", methods = [\"POST\"])\r\n",
        "async def upload(request):\r\n",
        "    data = await request.form()\r\n",
        "    bytes = await (data[\"file\"].read())\r\n",
        "    return predict_image_from_bytes(bytes)\r\n",
        "\r\n",
        "@app.route(\"/classify-url\", methods = [\"GET\"])\r\n",
        "async def classify_url(request):\r\n",
        "    bytes = await get_bytes(request.query_params[\"url\"])\r\n",
        "    return predict_image_from_bytes(bytes)\r\n",
        "\r\n",
        "def predict_image_from_bytes(bytes):\r\n",
        "    #load byte data into a stream\r\n",
        "    img_file = io.BytesIO(bytes)\r\n",
        "    #encoding the image in base64 to serve in HTML\r\n",
        "    im = Image.open(img_file)\r\n",
        "    #resize the image to a 224x224 with the same strategy as in TM2:\r\n",
        "    #resizing the image to be at least 224x224 and then cropping from the center\r\n",
        "    size = (224, 224)\r\n",
        "    image = ImageOps.fit(im, size, Image.ANTIALIAS)\r\n",
        "    #im.save(\"img.jpg\")\r\n",
        "    \r\n",
        "    #img_uri = base64.b64encode(open(\"img.jpg\", 'rb').read()).decode('utf-8')\r\n",
        "    \r\n",
        "    # Create the array of the right shape to feed into the keras model\r\n",
        "    # The 'length' or number of images you can put into the array is\r\n",
        "    # determined by the first position in the shape tuple, in this case 1.\r\n",
        "    data = np.ndarray(shape=(1, 224, 224, 3), dtype=np.float32)\r\n",
        "    #image = Image.open(\"img.jpg\")\r\n",
        "\r\n",
        "    #turn the image into a numpy array\r\n",
        "    image_array = np.asarray(image)\r\n",
        "\r\n",
        "    # Normalize the image\r\n",
        "    normalized_image_array = (image_array.astype(np.float32) / 127.0) - 1\r\n",
        "\r\n",
        "    # Load the image into the array\r\n",
        "    data[0] = normalized_image_array\r\n",
        "\r\n",
        "    # run the inference\r\n",
        "    result = model.predict(data)\r\n",
        "    result=np.argmax(result)\r\n",
        "    \r\n",
        "    # process an array and print result\r\n",
        "    if result == 0:\r\n",
        "        prediction = \"Green_bin\"\r\n",
        "    elif result == 1:\r\n",
        "        prediction = \"Blue_bin\"\r\n",
        "    elif result == 2:\r\n",
        "        prediction = \"Black_bin\"\r\n",
        "    elif result == 3:\r\n",
        "        prediction = \"Trash_bin\"\r\n",
        "    else:\r\n",
        "        prediction = \"error\"\r\n",
        "\r\n",
        "    print(prediction)\r\n",
        "\r\n",
        "    return JSONResponse({'Prediction' : prediction })\r\n",
        "\r\n",
        "@app.route(\"/\")\r\n",
        "def form(request):\r\n",
        "        return HTMLResponse(\r\n",
        "            \"\"\"\r\n",
        "            <h1> WasteAPI </h1>\r\n",
        "            <p> What bin should your item go into?? </p>\r\n",
        "            <form action=\"/upload\" method = \"post\" enctype = \"multipart/form-data\">\r\n",
        "                <u> Select picture to upload: </u> <br> <p>\r\n",
        "                1. <input type=\"file\" name=\"file\"><br><p>\r\n",
        "                2. <input type=\"submit\" value=\"Upload\">\r\n",
        "            </form>\r\n",
        "            <br>\r\n",
        "            <br>\r\n",
        "            <u> Submit picture URL </u>\r\n",
        "            <form action = \"/classify-url\" method=\"get\">\r\n",
        "                1. <input type=\"url\" name=\"url\" size=\"60\"><br><p>\r\n",
        "                2. <input type=\"submit\" value=\"Upload\">\r\n",
        "            </form>\r\n",
        "            \"\"\")\r\n",
        "        \r\n",
        "@app.route(\"/form\")\r\n",
        "def redirect_to_homepage(request):\r\n",
        "        return RedirectResponse(\"/\")\r\n",
        "\r\n",
        "if __name__ == \"__main__\":\r\n",
        "    if \"serve\" in sys.argv:\r\n",
        "        port = int(os.environ.get(\"PORT\", 8008)) \r\n",
        "        uvicorn.run(app, host = \"0.0.0.0\", port = port)\r\n",
        "\r\n",
        "        "
      ],
      "execution_count": 9,
      "outputs": [
        {
          "output_type": "stream",
          "text": [
            "WARNING:tensorflow:No training configuration found in the save file, so the model was *not* compiled. Compile it manually.\n"
          ],
          "name": "stdout"
        }
      ]
    }
  ]
}